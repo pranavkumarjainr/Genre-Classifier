{
  "nbformat": 4,
  "nbformat_minor": 0,
  "metadata": {
    "colab": {
      "name": "Movie Recommendations .ipynb",
      "provenance": [],
      "collapsed_sections": []
    },
    "kernelspec": {
      "name": "python3",
      "display_name": "Python 3"
    },
    "language_info": {
      "name": "python"
    }
  },
  "cells": [
    {
      "cell_type": "markdown",
      "metadata": {
        "id": "WwqNtBneSonw"
      },
      "source": [
        "# **Title of the project:**\n",
        "###Movie Recommendations\n",
        "\n",
        "#**Team Members:** \n",
        "###Pranav Kumar Jain R\n",
        "\n",
        "#**Problem Statement:** \n",
        "###To provide movie recommendations to users.\n",
        "\n",
        "#**Data Description:** \n",
        "### Movielens dataset contains movies.csv and ratings.csv. movies.csv has columns movieId, title, genres and ratings.csv has columns userId, movieId, ratings, timestamp.\n",
        "\n",
        "#**Software Requirements and Platforms used:** \n",
        "### Jupyter Notebook, R, Excel"
      ]
    },
    {
      "cell_type": "markdown",
      "metadata": {
        "id": "DL_ypN6STAVd"
      },
      "source": [
        "# CO1 : Know your Data "
      ]
    },
    {
      "cell_type": "code",
      "metadata": {
        "colab": {
          "base_uri": "https://localhost:8080/"
        },
        "id": "LtqlRReyweGG",
        "outputId": "1ecb6fab-0160-4208-c314-f540fa4f6fa3"
      },
      "source": [
        "%load_ext rpy2.ipython"
      ],
      "execution_count": 30,
      "outputs": [
        {
          "output_type": "stream",
          "name": "stdout",
          "text": [
            "The rpy2.ipython extension is already loaded. To reload it, use:\n",
            "  %reload_ext rpy2.ipython\n"
          ]
        }
      ]
    },
    {
      "cell_type": "code",
      "metadata": {
        "id": "tm8kLT19TFZ0"
      },
      "source": [
        "%%R\n",
        "movies=read.csv(\"movies.csv\")\n",
        "ratings=read.csv(\"ratings.csv\")"
      ],
      "execution_count": 31,
      "outputs": []
    },
    {
      "cell_type": "code",
      "metadata": {
        "colab": {
          "base_uri": "https://localhost:8080/"
        },
        "id": "5lwmcd1Qq2nK",
        "outputId": "b7f69431-23ef-4fab-91f1-9508772faadd"
      },
      "source": [
        "%%R\n",
        "head(movies)"
      ],
      "execution_count": 32,
      "outputs": [
        {
          "output_type": "stream",
          "name": "stdout",
          "text": [
            "  movieId                              title\n",
            "1       1                   Toy Story (1995)\n",
            "2       2                     Jumanji (1995)\n",
            "3       3            Grumpier Old Men (1995)\n",
            "4       4           Waiting to Exhale (1995)\n",
            "5       5 Father of the Bride Part II (1995)\n",
            "6       6                        Heat (1995)\n",
            "                                       genres\n",
            "1 Adventure|Animation|Children|Comedy|Fantasy\n",
            "2                  Adventure|Children|Fantasy\n",
            "3                              Comedy|Romance\n",
            "4                        Comedy|Drama|Romance\n",
            "5                                      Comedy\n",
            "6                       Action|Crime|Thriller\n"
          ]
        }
      ]
    },
    {
      "cell_type": "code",
      "metadata": {
        "colab": {
          "base_uri": "https://localhost:8080/"
        },
        "id": "Qcoxma_zq222",
        "outputId": "3e2e3986-6791-48b2-8f92-2aead1ebadef"
      },
      "source": [
        "%%R\n",
        "head(ratings)"
      ],
      "execution_count": 33,
      "outputs": [
        {
          "output_type": "stream",
          "name": "stdout",
          "text": [
            "  userId movieId rating timestamp\n",
            "1      1       1      4 964982703\n",
            "2      1       3      4 964981247\n",
            "3      1       6      4 964982224\n",
            "4      1      47      5 964983815\n",
            "5      1      50      5 964982931\n",
            "6      1      70      3 964982400\n"
          ]
        }
      ]
    },
    {
      "cell_type": "code",
      "metadata": {
        "colab": {
          "base_uri": "https://localhost:8080/"
        },
        "id": "-BtalcPus38J",
        "outputId": "8109393a-8baa-4368-a215-4a9f0704dcae"
      },
      "source": [
        "%%R\n",
        "dim(movies)"
      ],
      "execution_count": 34,
      "outputs": [
        {
          "output_type": "stream",
          "name": "stdout",
          "text": [
            "[1] 9742    3\n"
          ]
        }
      ]
    },
    {
      "cell_type": "code",
      "metadata": {
        "colab": {
          "base_uri": "https://localhost:8080/"
        },
        "id": "8wExUkBPHBZK",
        "outputId": "236f38d8-8e8f-40cb-c4f6-a542feb2eab4"
      },
      "source": [
        "%%R\n",
        "dim(ratings)"
      ],
      "execution_count": 35,
      "outputs": [
        {
          "output_type": "stream",
          "name": "stdout",
          "text": [
            "[1] 100836      4\n"
          ]
        }
      ]
    },
    {
      "cell_type": "code",
      "metadata": {
        "colab": {
          "base_uri": "https://localhost:8080/"
        },
        "id": "zlFuLrtSs3_w",
        "outputId": "0ecf6d70-9bfc-40c9-e454-cfce2e3f7d20"
      },
      "source": [
        "%%R\n",
        "str(movies)"
      ],
      "execution_count": 36,
      "outputs": [
        {
          "output_type": "stream",
          "name": "stdout",
          "text": [
            "'data.frame':\t9742 obs. of  3 variables:\n",
            " $ movieId: int  1 2 3 4 5 6 7 8 9 10 ...\n",
            " $ title  : chr  \"Toy Story (1995)\" \"Jumanji (1995)\" \"Grumpier Old Men (1995)\" \"Waiting to Exhale (1995)\" ...\n",
            " $ genres : chr  \"Adventure|Animation|Children|Comedy|Fantasy\" \"Adventure|Children|Fantasy\" \"Comedy|Romance\" \"Comedy|Drama|Romance\" ...\n"
          ]
        }
      ]
    },
    {
      "cell_type": "code",
      "metadata": {
        "colab": {
          "base_uri": "https://localhost:8080/"
        },
        "id": "6-j1ymWnHISX",
        "outputId": "dbab1dd5-c354-4534-dba6-ee7ed633a2f6"
      },
      "source": [
        "%%R\n",
        "str(ratings)"
      ],
      "execution_count": 37,
      "outputs": [
        {
          "output_type": "stream",
          "name": "stdout",
          "text": [
            "'data.frame':\t100836 obs. of  4 variables:\n",
            " $ userId   : int  1 1 1 1 1 1 1 1 1 1 ...\n",
            " $ movieId  : int  1 3 6 47 50 70 101 110 151 157 ...\n",
            " $ rating   : num  4 4 4 5 5 3 5 4 5 5 ...\n",
            " $ timestamp: int  964982703 964981247 964982224 964983815 964982931 964982400 964980868 964982176 964984041 964984100 ...\n"
          ]
        }
      ]
    },
    {
      "cell_type": "code",
      "metadata": {
        "colab": {
          "base_uri": "https://localhost:8080/"
        },
        "id": "8YNCCCj3s4E7",
        "outputId": "71883b3b-ea0b-4f22-c043-40a06a662cf8"
      },
      "source": [
        "%%R\n",
        "summary(ratings$rating)"
      ],
      "execution_count": 38,
      "outputs": [
        {
          "output_type": "stream",
          "name": "stdout",
          "text": [
            "   Min. 1st Qu.  Median    Mean 3rd Qu.    Max. \n",
            "  0.500   3.000   3.500   3.502   4.000   5.000 \n"
          ]
        }
      ]
    },
    {
      "cell_type": "markdown",
      "metadata": {
        "id": "tW1GyPfIS6K1"
      },
      "source": [
        "# CO2: Data Wrangling"
      ]
    },
    {
      "cell_type": "code",
      "metadata": {
        "id": "Xcdhjr0iq1XT"
      },
      "source": [
        "%%R\n",
        "library(ggplot2)\n",
        "library(tidyr)\n",
        "library(dplyr)\n",
        "library(stringi)\n",
        "library(reshape2)\n",
        "library(recommenderlab)"
      ],
      "execution_count": 39,
      "outputs": []
    },
    {
      "cell_type": "code",
      "metadata": {
        "id": "-idg3YG9TJD7"
      },
      "source": [
        "%%R\n",
        "#Create ratings matrix with rows as users and columns as movies\n",
        "#userId values will be in rows and movieId values will become column names\n",
        "ratingmat = dcast(ratings, userId~movieId, value.var = \"rating\", na.rm=FALSE)\n",
        "#We can now remove user ids\n",
        "ratingmat = as.matrix(ratingmat[,-1])"
      ],
      "execution_count": 40,
      "outputs": []
    },
    {
      "cell_type": "code",
      "metadata": {
        "id": "QEhVoLe4yPyC",
        "colab": {
          "base_uri": "https://localhost:8080/"
        },
        "outputId": "8dbd1617-3511-48a4-abeb-00bda628ac63"
      },
      "source": [
        "%%R\n",
        "#Convert ratings matrix to real rating matrix which makes it dense\n",
        "#an object class created within `recommenderlab` for efficient storage of user-item ratings matrices\n",
        "#It's been optimized for storing sparse matrices\n",
        "ratingmat = as(ratingmat, \"realRatingMatrix\")\n",
        "ratingmat"
      ],
      "execution_count": 41,
      "outputs": [
        {
          "output_type": "stream",
          "name": "stdout",
          "text": [
            "610 x 9724 rating matrix of class ‘realRatingMatrix’ with 100836 ratings.\n"
          ]
        }
      ]
    },
    {
      "cell_type": "markdown",
      "metadata": {
        "id": "8mbalk7lTJ68"
      },
      "source": [
        "# CO3: Data Modeling and Analysis"
      ]
    },
    {
      "cell_type": "code",
      "metadata": {
        "id": "zii54XdcTQDW",
        "colab": {
          "base_uri": "https://localhost:8080/",
          "height": 497
        },
        "outputId": "27fe8304-14e6-4259-a815-06a25bf15b64"
      },
      "source": [
        "%%R\n",
        "ratings %>% group_by(rating) %>% summarize(count=n()) %>% \n",
        "    ggplot(aes(x=rating, y=count)) + \n",
        "    geom_line() +\n",
        "    geom_point() +\n",
        "    ggtitle(\"Rating Distribution\") + \n",
        "    xlab(\"Rating\") +\n",
        "    ylab(\"Count\")"
      ],
      "execution_count": 42,
      "outputs": [
        {
          "output_type": "display_data",
          "data": {
            "image/png": "[encoded data removed]"
          },
          "metadata": {}
        }
      ]
    },
    {
      "cell_type": "code",
      "metadata": {
        "colab": {
          "base_uri": "https://localhost:8080/"
        },
        "id": "Ec0QUXJLnkIG",
        "outputId": "ce066557-4a5c-46e5-962c-07dc355111d2"
      },
      "source": [
        "%%R\n",
        "genres_df <- movies %>%\n",
        "  separate_rows(genres, sep = \"\\\\|\") %>%\n",
        "  group_by(genres) %>%\n",
        "  summarise(number = n()) %>%\n",
        "  arrange(desc(number))\n",
        "\n",
        "print(genres_df)"
      ],
      "execution_count": 43,
      "outputs": [
        {
          "output_type": "stream",
          "name": "stdout",
          "text": [
            "# A tibble: 20 × 2\n",
            "   genres             number\n",
            "   <chr>               <int>\n",
            " 1 Drama                4361\n",
            " 2 Comedy               3756\n",
            " 3 Thriller             1894\n",
            " 4 Action               1828\n",
            " 5 Romance              1596\n",
            " 6 Adventure            1263\n",
            " 7 Crime                1199\n",
            " 8 Sci-Fi                980\n",
            " 9 Horror                978\n",
            "10 Fantasy               779\n",
            "11 Children              664\n",
            "12 Animation             611\n",
            "13 Mystery               573\n",
            "14 Documentary           440\n",
            "15 War                   382\n",
            "16 Musical               334\n",
            "17 Western               167\n",
            "18 IMAX                  158\n",
            "19 Film-Noir              87\n",
            "20 (no genres listed)     34\n"
          ]
        }
      ]
    },
    {
      "cell_type": "code",
      "metadata": {
        "colab": {
          "base_uri": "https://localhost:8080/",
          "height": 497
        },
        "id": "8UW3viDDybC3",
        "outputId": "165b7632-d2c2-4abf-9ab7-c4de6528ea11"
      },
      "source": [
        "%%R\n",
        "barplot(genres_df$number,\n",
        "main = \"Count of genres\",\n",
        "ylab = \"Count\",\n",
        "names.arg = genres_df$genres,\n",
        "las=2,\n",
        "col = \"darkred\")"
      ],
      "execution_count": 44,
      "outputs": [
        {
          "output_type": "display_data",
          "data": {
            "image/png": "[encoded data removed]"
          },
          "metadata": {}
        }
      ]
    },
    {
      "cell_type": "markdown",
      "metadata": {
        "id": "f8IL1t0-TOyi"
      },
      "source": [
        "# CO4: Mining Techniques in R"
      ]
    },
    {
      "cell_type": "code",
      "metadata": {
        "id": "i5BNDlVszB7d"
      },
      "source": [
        "%%R\n",
        "eval_sets <- evaluationScheme(data = ratingmat, method = \"split\", train = 0.8, given = 19, goodRating = 3)"
      ],
      "execution_count": 59,
      "outputs": []
    },
    {
      "cell_type": "code",
      "metadata": {
        "id": "4p23rufGzG5C"
      },
      "source": [
        "%%R\n",
        "# Item based collaborative filtering finds similarity patterns between items and recommends them to users\n",
        "# User based collaborative filtering finds similar users and gives them recommendations based on what other people with similar consumption patterns prefer\n",
        "\n",
        "# pearson correlation coefficient defined as the covariance between two vectors divided by their standard deviations. \n",
        "# cosine similarity defined as the angular similarity between two vectors.\n",
        "\n",
        "models <- list(\n",
        "IBCF_cos = list(name = \"IBCF\", param = list(method = \"cosine\")),\n",
        "IBCF_cor = list(name = \"IBCF\", param = list(method = \"pearson\")),\n",
        "UBCF_cos = list(name = \"UBCF\", param = list(method = \"cosine\")),\n",
        "UBCF_cor = list(name = \"UBCF\", param = list(method = \"pearson\"))\n",
        ")"
      ],
      "execution_count": 46,
      "outputs": []
    },
    {
      "cell_type": "code",
      "metadata": {
        "colab": {
          "base_uri": "https://localhost:8080/"
        },
        "id": "_8AobcqCzG7-",
        "outputId": "3929fe61-42a5-4514-9160-a4b11877fcfb"
      },
      "source": [
        "%%R\n",
        "eval_results <- evaluate(x = eval_sets, method = models, n = 1:19)"
      ],
      "execution_count": 60,
      "outputs": [
        {
          "output_type": "stream",
          "name": "stdout",
          "text": [
            "IBCF run fold/sample [model time/prediction time]\n",
            "\t 1  [92.828sec/0.174sec] \n",
            "IBCF run fold/sample [model time/prediction time]\n",
            "\t 1  [80.725sec/0.186sec] \n",
            "UBCF run fold/sample [model time/prediction time]\n",
            "\t 1  [0.012sec/4.205sec] \n",
            "UBCF run fold/sample [model time/prediction time]\n",
            "\t 1  [0.009sec/2.115sec] \n"
          ]
        }
      ]
    },
    {
      "cell_type": "code",
      "metadata": {
        "id": "rDNmrLHbSWSi",
        "colab": {
          "base_uri": "https://localhost:8080/",
          "height": 497
        },
        "outputId": "ae9eb4b4-a13c-4e7b-a6df-34c33fbca1d9"
      },
      "source": [
        "%%R\n",
        "plot(eval_results, \"prec/rec\", legend = \"bottomright\") \n",
        "title(\"Precision-recall\")"
      ],
      "execution_count": 61,
      "outputs": [
        {
          "output_type": "display_data",
          "data": {
            "image/png": "[encoded data removed]"
          },
          "metadata": {}
        }
      ]
    },
    {
      "cell_type": "code",
      "metadata": {
        "colab": {
          "base_uri": "https://localhost:8080/",
          "height": 497
        },
        "id": "UdPnLAqrzHKm",
        "outputId": "897fd1b0-2bf2-4cb5-a78d-de2c76db3223"
      },
      "source": [
        "%%R\n",
        "plot(eval_results, legend = \"topleft\") \n",
        "title(\"ROC curve\")"
      ],
      "execution_count": 62,
      "outputs": [
        {
          "output_type": "display_data",
          "data": {
            "image/png": "[encoded data removed]"
          },
          "metadata": {}
        }
      ]
    },
    {
      "cell_type": "markdown",
      "metadata": {
        "id": "Ehi1CzBCTVwB"
      },
      "source": [
        "# CO5: Implementing case study in R : Describe the scenario taken for analysis "
      ]
    },
    {
      "cell_type": "code",
      "metadata": {
        "id": "bpsZJ2GGTnzH"
      },
      "source": [
        "%%R\n",
        "#Create Recommender. The parameters are UBCF and Cosine similarity\n",
        "rec_mod = Recommender(ratingmat, method = \"UBCF\", param=list(method=\"cosine\",nn=10)) "
      ],
      "execution_count": 63,
      "outputs": []
    },
    {
      "cell_type": "code",
      "metadata": {
        "id": "RHnHSvfnzxmz"
      },
      "source": [
        "%%R\n",
        "#Obtain top 5 recommendations for 1st user entry in dataset\n",
        "Top_5_pred = predict(rec_mod, ratingmat[1], n=5)"
      ],
      "execution_count": 64,
      "outputs": []
    },
    {
      "cell_type": "code",
      "metadata": {
        "colab": {
          "base_uri": "https://localhost:8080/"
        },
        "id": "Sdeb-CGZzxp4",
        "outputId": "7c1ba59e-92d5-4166-9bb2-5ab09cf66f23"
      },
      "source": [
        "%%R\n",
        "#Convert the recommendations to a list\n",
        "Top_5_List = as(Top_5_pred, \"list\")\n",
        "Top_5_List"
      ],
      "execution_count": 65,
      "outputs": [
        {
          "output_type": "stream",
          "name": "stdout",
          "text": [
            "[[1]]\n",
            "[1] \"32\"    \"30803\" \"5066\"  \"42728\" \"55052\"\n",
            "\n"
          ]
        }
      ]
    },
    {
      "cell_type": "code",
      "metadata": {
        "colab": {
          "base_uri": "https://localhost:8080/"
        },
        "id": "hh7YuXz6zxsh",
        "outputId": "a4836b93-1d59-4af1-8294-90b5e741a1c7"
      },
      "source": [
        "%%R\n",
        "#We convert the list to a dataframe and change the column name to movieId\n",
        "Top_5_df=data.frame(Top_5_List)\n",
        "colnames(Top_5_df)=\"movieId\"\n",
        "\n",
        "#Since movieId is of type integer in Movies data, we typecast id in our recommendations as well\n",
        "Top_5_df$movieId=as.numeric(Top_5_df$movieId)\n",
        "\n",
        "#Merge the movie ids with names to get titles and genres\n",
        "names=left_join(Top_5_df, movies, by=\"movieId\")\n",
        "\n",
        "#Print the titles and genres\n",
        "names"
      ],
      "execution_count": 66,
      "outputs": [
        {
          "output_type": "stream",
          "name": "stdout",
          "text": [
            "  movieId                                     title                  genres\n",
            "1      32 Twelve Monkeys (a.k.a. 12 Monkeys) (1995) Mystery|Sci-Fi|Thriller\n",
            "2   30803                   3-Iron (Bin-jip) (2004)           Drama|Romance\n",
            "3    5066                Walk to Remember, A (2002)           Drama|Romance\n",
            "4   42728                   Tristan & Isolde (2006)           Drama|Romance\n",
            "5   55052                          Atonement (2007)       Drama|Romance|War\n"
          ]
        }
      ]
    }
  ]
}